{
  "nbformat": 4,
  "nbformat_minor": 0,
  "metadata": {
    "colab": {
      "name": "Copy of Exploratory Data Analysis Project.ipynb",
      "provenance": [],
      "collapsed_sections": [],
      "toc_visible": true
    },
    "kernelspec": {
      "display_name": "Python 3",
      "name": "python3"
    }
  },
  "cells": [
    {
      "cell_type": "markdown",
      "metadata": {
        "id": "QEeY8reP-8Q_"
      },
      "source": [
        "In this assignment you can identify a dataset of your interest and perform exploratory data analysis to better understand the data, investigate initial questions about it and develop preliminary insights and hypotheses. Your final submission will be a blog post consisting of a series of captioned visualizations that convey the key insights gained over the course of your analysis. You need to post the blog to medium or your github website.\n",
        "\n",
        "Documenting the data analysis process you went through is the main pedagogical goal of the assignment and more important than the design of the final visualization.\n",
        "\n",
        "We will go over the details of the project during class hours next week."
      ]
    },
    {
      "cell_type": "markdown",
      "metadata": {
        "id": "40FjLaUS_Rui"
      },
      "source": [
        "##**Part 1: Select and Prepare the Data**"
      ]
    },
    {
      "cell_type": "markdown",
      "metadata": {
        "id": "Mu120a3d_SnY"
      },
      "source": [
        "You should start by picking a topic area of interest to you and finding a dataset that can provide insights into that topic. We have provided some datasets below that you can start from. But we encourage you to investigate a different topic and dataset. If you self-select a dataset and are concerned about its appropriateness for the assignment, you can check with the TAs regarding the same.\n",
        "\n",
        "**Note:** The data collection and preparation (also known as data wrangling) can be a very tedious and time-consuming process. Be sure you have sufficient time to conduct exploratory analysis, after preparing the data.\n",
        "\n",
        "After selecting a topic and dataset – but prior to analysis – you should write down an initial set of at least three questions you’d like to investigate."
      ]
    },
    {
      "cell_type": "code",
      "metadata": {
        "colab": {
          "base_uri": "https://localhost:8080/",
          "height": 309
        },
        "id": "bA4-gakgIG2a",
        "outputId": "c7124428-0d5b-4701-eb35-100239a9923c"
      },
      "source": [
        "import matplotlib.pyplot as plt\n",
        "import numpy as np\n",
        "import pandas as pd\n",
        "\n",
        "# import Himalayan Climbing Expeditions dataset\n",
        "members = pd.read_csv('https://raw.githubusercontent.com/rfordatascience/tidytuesday/master/data/2020/2020-09-22/members.csv')\n",
        "expeditions = pd.read_csv('https://raw.githubusercontent.com/rfordatascience/tidytuesday/master/data/2020/2020-09-22/expeditions.csv')\n",
        "peaks = pd.read_csv('https://raw.githubusercontent.com/rfordatascience/tidytuesday/master/data/2020/2020-09-22/peaks.csv')\n",
        "\n",
        "members.head()"
      ],
      "execution_count": 2,
      "outputs": [
        {
          "output_type": "execute_result",
          "data": {
            "text/html": [
              "<div>\n",
              "<style scoped>\n",
              "    .dataframe tbody tr th:only-of-type {\n",
              "        vertical-align: middle;\n",
              "    }\n",
              "\n",
              "    .dataframe tbody tr th {\n",
              "        vertical-align: top;\n",
              "    }\n",
              "\n",
              "    .dataframe thead th {\n",
              "        text-align: right;\n",
              "    }\n",
              "</style>\n",
              "<table border=\"1\" class=\"dataframe\">\n",
              "  <thead>\n",
              "    <tr style=\"text-align: right;\">\n",
              "      <th></th>\n",
              "      <th>expedition_id</th>\n",
              "      <th>member_id</th>\n",
              "      <th>peak_id</th>\n",
              "      <th>peak_name</th>\n",
              "      <th>year</th>\n",
              "      <th>season</th>\n",
              "      <th>sex</th>\n",
              "      <th>age</th>\n",
              "      <th>citizenship</th>\n",
              "      <th>expedition_role</th>\n",
              "      <th>hired</th>\n",
              "      <th>highpoint_metres</th>\n",
              "      <th>success</th>\n",
              "      <th>solo</th>\n",
              "      <th>oxygen_used</th>\n",
              "      <th>died</th>\n",
              "      <th>death_cause</th>\n",
              "      <th>death_height_metres</th>\n",
              "      <th>injured</th>\n",
              "      <th>injury_type</th>\n",
              "      <th>injury_height_metres</th>\n",
              "    </tr>\n",
              "  </thead>\n",
              "  <tbody>\n",
              "    <tr>\n",
              "      <th>0</th>\n",
              "      <td>AMAD78301</td>\n",
              "      <td>AMAD78301-01</td>\n",
              "      <td>AMAD</td>\n",
              "      <td>Ama Dablam</td>\n",
              "      <td>1978</td>\n",
              "      <td>Autumn</td>\n",
              "      <td>M</td>\n",
              "      <td>40.0</td>\n",
              "      <td>France</td>\n",
              "      <td>Leader</td>\n",
              "      <td>False</td>\n",
              "      <td>NaN</td>\n",
              "      <td>False</td>\n",
              "      <td>False</td>\n",
              "      <td>False</td>\n",
              "      <td>False</td>\n",
              "      <td>NaN</td>\n",
              "      <td>NaN</td>\n",
              "      <td>False</td>\n",
              "      <td>NaN</td>\n",
              "      <td>NaN</td>\n",
              "    </tr>\n",
              "    <tr>\n",
              "      <th>1</th>\n",
              "      <td>AMAD78301</td>\n",
              "      <td>AMAD78301-02</td>\n",
              "      <td>AMAD</td>\n",
              "      <td>Ama Dablam</td>\n",
              "      <td>1978</td>\n",
              "      <td>Autumn</td>\n",
              "      <td>M</td>\n",
              "      <td>41.0</td>\n",
              "      <td>France</td>\n",
              "      <td>Deputy Leader</td>\n",
              "      <td>False</td>\n",
              "      <td>6000.0</td>\n",
              "      <td>False</td>\n",
              "      <td>False</td>\n",
              "      <td>False</td>\n",
              "      <td>False</td>\n",
              "      <td>NaN</td>\n",
              "      <td>NaN</td>\n",
              "      <td>False</td>\n",
              "      <td>NaN</td>\n",
              "      <td>NaN</td>\n",
              "    </tr>\n",
              "    <tr>\n",
              "      <th>2</th>\n",
              "      <td>AMAD78301</td>\n",
              "      <td>AMAD78301-03</td>\n",
              "      <td>AMAD</td>\n",
              "      <td>Ama Dablam</td>\n",
              "      <td>1978</td>\n",
              "      <td>Autumn</td>\n",
              "      <td>M</td>\n",
              "      <td>27.0</td>\n",
              "      <td>France</td>\n",
              "      <td>Climber</td>\n",
              "      <td>False</td>\n",
              "      <td>NaN</td>\n",
              "      <td>False</td>\n",
              "      <td>False</td>\n",
              "      <td>False</td>\n",
              "      <td>False</td>\n",
              "      <td>NaN</td>\n",
              "      <td>NaN</td>\n",
              "      <td>False</td>\n",
              "      <td>NaN</td>\n",
              "      <td>NaN</td>\n",
              "    </tr>\n",
              "    <tr>\n",
              "      <th>3</th>\n",
              "      <td>AMAD78301</td>\n",
              "      <td>AMAD78301-04</td>\n",
              "      <td>AMAD</td>\n",
              "      <td>Ama Dablam</td>\n",
              "      <td>1978</td>\n",
              "      <td>Autumn</td>\n",
              "      <td>M</td>\n",
              "      <td>40.0</td>\n",
              "      <td>France</td>\n",
              "      <td>Exp Doctor</td>\n",
              "      <td>False</td>\n",
              "      <td>6000.0</td>\n",
              "      <td>False</td>\n",
              "      <td>False</td>\n",
              "      <td>False</td>\n",
              "      <td>False</td>\n",
              "      <td>NaN</td>\n",
              "      <td>NaN</td>\n",
              "      <td>False</td>\n",
              "      <td>NaN</td>\n",
              "      <td>NaN</td>\n",
              "    </tr>\n",
              "    <tr>\n",
              "      <th>4</th>\n",
              "      <td>AMAD78301</td>\n",
              "      <td>AMAD78301-05</td>\n",
              "      <td>AMAD</td>\n",
              "      <td>Ama Dablam</td>\n",
              "      <td>1978</td>\n",
              "      <td>Autumn</td>\n",
              "      <td>M</td>\n",
              "      <td>34.0</td>\n",
              "      <td>France</td>\n",
              "      <td>Climber</td>\n",
              "      <td>False</td>\n",
              "      <td>NaN</td>\n",
              "      <td>False</td>\n",
              "      <td>False</td>\n",
              "      <td>False</td>\n",
              "      <td>False</td>\n",
              "      <td>NaN</td>\n",
              "      <td>NaN</td>\n",
              "      <td>False</td>\n",
              "      <td>NaN</td>\n",
              "      <td>NaN</td>\n",
              "    </tr>\n",
              "  </tbody>\n",
              "</table>\n",
              "</div>"
            ],
            "text/plain": [
              "  expedition_id     member_id  ... injury_type injury_height_metres\n",
              "0     AMAD78301  AMAD78301-01  ...         NaN                  NaN\n",
              "1     AMAD78301  AMAD78301-02  ...         NaN                  NaN\n",
              "2     AMAD78301  AMAD78301-03  ...         NaN                  NaN\n",
              "3     AMAD78301  AMAD78301-04  ...         NaN                  NaN\n",
              "4     AMAD78301  AMAD78301-05  ...         NaN                  NaN\n",
              "\n",
              "[5 rows x 21 columns]"
            ]
          },
          "metadata": {
            "tags": []
          },
          "execution_count": 2
        }
      ]
    },
    {
      "cell_type": "code",
      "metadata": {
        "id": "uCfAytiCMmsf"
      },
      "source": [
        "expeditions.head()"
      ],
      "execution_count": null,
      "outputs": []
    },
    {
      "cell_type": "code",
      "metadata": {
        "colab": {
          "base_uri": "https://localhost:8080/",
          "height": 309
        },
        "id": "ps3qYwMuMmHt",
        "outputId": "016e250e-847d-415e-fb6f-6efeedabdf0e"
      },
      "source": [
        "members.head()"
      ],
      "execution_count": null,
      "outputs": [
        {
          "output_type": "execute_result",
          "data": {
            "text/html": [
              "<div>\n",
              "<style scoped>\n",
              "    .dataframe tbody tr th:only-of-type {\n",
              "        vertical-align: middle;\n",
              "    }\n",
              "\n",
              "    .dataframe tbody tr th {\n",
              "        vertical-align: top;\n",
              "    }\n",
              "\n",
              "    .dataframe thead th {\n",
              "        text-align: right;\n",
              "    }\n",
              "</style>\n",
              "<table border=\"1\" class=\"dataframe\">\n",
              "  <thead>\n",
              "    <tr style=\"text-align: right;\">\n",
              "      <th></th>\n",
              "      <th>expedition_id</th>\n",
              "      <th>member_id</th>\n",
              "      <th>peak_id</th>\n",
              "      <th>peak_name</th>\n",
              "      <th>year</th>\n",
              "      <th>season</th>\n",
              "      <th>sex</th>\n",
              "      <th>age</th>\n",
              "      <th>citizenship</th>\n",
              "      <th>expedition_role</th>\n",
              "      <th>hired</th>\n",
              "      <th>highpoint_metres</th>\n",
              "      <th>success</th>\n",
              "      <th>solo</th>\n",
              "      <th>oxygen_used</th>\n",
              "      <th>died</th>\n",
              "      <th>death_cause</th>\n",
              "      <th>death_height_metres</th>\n",
              "      <th>injured</th>\n",
              "      <th>injury_type</th>\n",
              "      <th>injury_height_metres</th>\n",
              "    </tr>\n",
              "  </thead>\n",
              "  <tbody>\n",
              "    <tr>\n",
              "      <th>0</th>\n",
              "      <td>AMAD78301</td>\n",
              "      <td>AMAD78301-01</td>\n",
              "      <td>AMAD</td>\n",
              "      <td>Ama Dablam</td>\n",
              "      <td>1978</td>\n",
              "      <td>Autumn</td>\n",
              "      <td>M</td>\n",
              "      <td>40.0</td>\n",
              "      <td>France</td>\n",
              "      <td>Leader</td>\n",
              "      <td>False</td>\n",
              "      <td>NaN</td>\n",
              "      <td>False</td>\n",
              "      <td>False</td>\n",
              "      <td>False</td>\n",
              "      <td>False</td>\n",
              "      <td>NaN</td>\n",
              "      <td>NaN</td>\n",
              "      <td>False</td>\n",
              "      <td>NaN</td>\n",
              "      <td>NaN</td>\n",
              "    </tr>\n",
              "    <tr>\n",
              "      <th>1</th>\n",
              "      <td>AMAD78301</td>\n",
              "      <td>AMAD78301-02</td>\n",
              "      <td>AMAD</td>\n",
              "      <td>Ama Dablam</td>\n",
              "      <td>1978</td>\n",
              "      <td>Autumn</td>\n",
              "      <td>M</td>\n",
              "      <td>41.0</td>\n",
              "      <td>France</td>\n",
              "      <td>Deputy Leader</td>\n",
              "      <td>False</td>\n",
              "      <td>6000.0</td>\n",
              "      <td>False</td>\n",
              "      <td>False</td>\n",
              "      <td>False</td>\n",
              "      <td>False</td>\n",
              "      <td>NaN</td>\n",
              "      <td>NaN</td>\n",
              "      <td>False</td>\n",
              "      <td>NaN</td>\n",
              "      <td>NaN</td>\n",
              "    </tr>\n",
              "    <tr>\n",
              "      <th>2</th>\n",
              "      <td>AMAD78301</td>\n",
              "      <td>AMAD78301-03</td>\n",
              "      <td>AMAD</td>\n",
              "      <td>Ama Dablam</td>\n",
              "      <td>1978</td>\n",
              "      <td>Autumn</td>\n",
              "      <td>M</td>\n",
              "      <td>27.0</td>\n",
              "      <td>France</td>\n",
              "      <td>Climber</td>\n",
              "      <td>False</td>\n",
              "      <td>NaN</td>\n",
              "      <td>False</td>\n",
              "      <td>False</td>\n",
              "      <td>False</td>\n",
              "      <td>False</td>\n",
              "      <td>NaN</td>\n",
              "      <td>NaN</td>\n",
              "      <td>False</td>\n",
              "      <td>NaN</td>\n",
              "      <td>NaN</td>\n",
              "    </tr>\n",
              "    <tr>\n",
              "      <th>3</th>\n",
              "      <td>AMAD78301</td>\n",
              "      <td>AMAD78301-04</td>\n",
              "      <td>AMAD</td>\n",
              "      <td>Ama Dablam</td>\n",
              "      <td>1978</td>\n",
              "      <td>Autumn</td>\n",
              "      <td>M</td>\n",
              "      <td>40.0</td>\n",
              "      <td>France</td>\n",
              "      <td>Exp Doctor</td>\n",
              "      <td>False</td>\n",
              "      <td>6000.0</td>\n",
              "      <td>False</td>\n",
              "      <td>False</td>\n",
              "      <td>False</td>\n",
              "      <td>False</td>\n",
              "      <td>NaN</td>\n",
              "      <td>NaN</td>\n",
              "      <td>False</td>\n",
              "      <td>NaN</td>\n",
              "      <td>NaN</td>\n",
              "    </tr>\n",
              "    <tr>\n",
              "      <th>4</th>\n",
              "      <td>AMAD78301</td>\n",
              "      <td>AMAD78301-05</td>\n",
              "      <td>AMAD</td>\n",
              "      <td>Ama Dablam</td>\n",
              "      <td>1978</td>\n",
              "      <td>Autumn</td>\n",
              "      <td>M</td>\n",
              "      <td>34.0</td>\n",
              "      <td>France</td>\n",
              "      <td>Climber</td>\n",
              "      <td>False</td>\n",
              "      <td>NaN</td>\n",
              "      <td>False</td>\n",
              "      <td>False</td>\n",
              "      <td>False</td>\n",
              "      <td>False</td>\n",
              "      <td>NaN</td>\n",
              "      <td>NaN</td>\n",
              "      <td>False</td>\n",
              "      <td>NaN</td>\n",
              "      <td>NaN</td>\n",
              "    </tr>\n",
              "  </tbody>\n",
              "</table>\n",
              "</div>"
            ],
            "text/plain": [
              "  expedition_id     member_id  ... injury_type injury_height_metres\n",
              "0     AMAD78301  AMAD78301-01  ...         NaN                  NaN\n",
              "1     AMAD78301  AMAD78301-02  ...         NaN                  NaN\n",
              "2     AMAD78301  AMAD78301-03  ...         NaN                  NaN\n",
              "3     AMAD78301  AMAD78301-04  ...         NaN                  NaN\n",
              "4     AMAD78301  AMAD78301-05  ...         NaN                  NaN\n",
              "\n",
              "[5 rows x 21 columns]"
            ]
          },
          "metadata": {
            "tags": []
          },
          "execution_count": 5
        }
      ]
    },
    {
      "cell_type": "markdown",
      "metadata": {
        "id": "_97-jxLqB9NI"
      },
      "source": [
        "## **Part 2: Exploratory Analysis**"
      ]
    },
    {
      "cell_type": "markdown",
      "metadata": {
        "id": "rCbLzkhhCB14"
      },
      "source": [
        "Once you have picked the dataset and performed the initial data wrangling, you will perform exploratory analysis to investigate your data. For this assignment we would like you to use Pandas, NumPy and matplotlib to help you with the analysis. \n",
        "\n",
        "**Phase 1:** You should start the exploration by first examining the shape and structure of your data. What dimensions/variables does it contain and how are the data values distributed? Are there any notable data quality issues? Find out if there are missing values in the data and think of how you can handle them. Are there any surprising relationships between the dimensions/variables? Make sure to perform sanity checks for patterns you expect to see! Note that it may be the case that after doing a bit of exploration in phase 1 you find that your data is not as interesting as you first thought. In such cases you might consider returning to Part 1 and identifying a different dataset to work with. Such iteration on choosing the dataset is common, but also time-consuming, so make sure you leave time in your schedule for this.\n",
        "\n",
        "**Phase 2:** Next, you should investigate your initial questions, as well as any new questions that arise during your exploration. For each question, create a visualization that might provide a useful answer. Then refine the visualization (by adding additional variables, changing the sort ordering or axis scales, filtering or subsetting data, etc.) to develop better perspectives explore unexpected observations, or sanity check your assumptions. You should repeat this process for each of your questions, and also feel free to revise your questions or branch off to explore new questions as the data warrants."
      ]
    },
    {
      "cell_type": "code",
      "metadata": {
        "colab": {
          "base_uri": "https://localhost:8080/",
          "height": 379
        },
        "id": "t9emrPOzO-er",
        "outputId": "4a7a1d0c-efdd-4ab4-c364-6209e453ac78"
      },
      "source": [
        "# average hightpoint_meters for all expeditions\n",
        "avgHPm = expeditions.highpoint_metres.mean()\n",
        "print(avgHPm)\n",
        "# plt \n",
        "seasonAndHeight = expeditions.groupby(\"season\").mean()\n",
        "#print(seasonAndHeight)\n",
        "plt.bar(seasonAndHeight.index, seasonAndHeight.highpoint_metres)\n",
        "plt.axhline(y=avgHPm, color=\"r\", label='Avg highpoint meters for all expeditions')\n",
        "plt.title(\"Average Highpoint Meters for Different Seasons\")\n",
        "plt.legend(loc='upper right', bbox_to_anchor=(1.7, 1))\n",
        "plt.show()"
      ],
      "execution_count": 20,
      "outputs": [
        {
          "output_type": "stream",
          "text": [
            "7408.9238190954775\n"
          ],
          "name": "stdout"
        },
        {
          "output_type": "display_data",
          "data": {
            "image/png": "[encoded data removed]",
            "text/plain": [
              "<Figure size 576x396 with 1 Axes>"
            ]
          },
          "metadata": {
            "tags": []
          }
        }
      ]
    },
    {
      "cell_type": "code",
      "metadata": {
        "colab": {
          "base_uri": "https://localhost:8080/",
          "height": 311
        },
        "id": "Rd8qFJrYYUVb",
        "outputId": "f03266ac-2464-466d-83a2-9d04779189fd"
      },
      "source": [
        "import seaborn as sns\n",
        "%matplotlib inline\n",
        "sns.boxplot(y='highpoint_metres', x='season', \n",
        "                 data=sAndh, \n",
        "                 palette=\"colorblind\",\n",
        "                 hue='season').set_title('Seaons and Highpoints')"
      ],
      "execution_count": 54,
      "outputs": [
        {
          "output_type": "execute_result",
          "data": {
            "text/plain": [
              "Text(0.5, 1.0, 'Seaons and Highpoints')"
            ]
          },
          "metadata": {
            "tags": []
          },
          "execution_count": 54
        },
        {
          "output_type": "display_data",
          "data": {
            "image/png": "[encoded data removed]",
            "text/plain": [
              "<Figure size 432x288 with 1 Axes>"
            ]
          },
          "metadata": {
            "tags": [],
            "needs_background": "light"
          }
        }
      ]
    },
    {
      "cell_type": "code",
      "metadata": {
        "colab": {
          "base_uri": "https://localhost:8080/",
          "height": 791
        },
        "id": "6Ne0EEUbetYp",
        "outputId": "255df48f-109c-49ab-c936-3be6980ad9ab"
      },
      "source": [
        "exp = expeditions\n",
        "yearheight = exp.groupby(\"year\").mean()\n",
        "print(yearheight.index)\n",
        "print(yearheight.loc[[1920, 1921, 1922, 1924, 1925, 1929, 1930,\n",
        "            1931, 1933, 1934, 1935, 1936, 1937, 1938, 1939, 1940], :])\n",
        "plt.plot(yearheight.index, yearheight.highpoint_metres, marker ='o')\n",
        "plt.axhline(y=avgHPm, color=\"r\", label='Avg highpoint meters for all expeditions')\n",
        "plt.title(\"Average Highpoint Meters for Different Years\")\n",
        "plt.legend(loc='upper right', bbox_to_anchor=(1.7, 1))\n",
        "plt.show()"
      ],
      "execution_count": null,
      "outputs": [
        {
          "output_type": "stream",
          "text": [
            "Int64Index([1905, 1907, 1909, 1910, 1920, 1921, 1922, 1924, 1925, 1929, 1930,\n",
            "            1931, 1933, 1934, 1935, 1936, 1937, 1938, 1939, 1940, 1947, 1949,\n",
            "            1950, 1951, 1952, 1953, 1954, 1955, 1956, 1957, 1958, 1959, 1960,\n",
            "            1961, 1962, 1963, 1964, 1965, 1966, 1967, 1968, 1969, 1970, 1971,\n",
            "            1972, 1973, 1974, 1975, 1976, 1977, 1978, 1979, 1980, 1981, 1982,\n",
            "            1983, 1984, 1985, 1986, 1987, 1988, 1989, 1990, 1991, 1992, 1993,\n",
            "            1994, 1995, 1996, 1997, 1998, 1999, 2000, 2001, 2002, 2003, 2004,\n",
            "            2005, 2006, 2007, 2008, 2009, 2010, 2011, 2012, 2013, 2014, 2015,\n",
            "            2016, 2017, 2018, 2019],\n",
            "           dtype='int64', name='year')\n",
            "      highpoint_metres    members  ...  hired_staff_deaths  oxygen_used\n",
            "year                               ...                                 \n",
            "1920       6200.000000   1.666667  ...            0.000000     0.000000\n",
            "1921       7000.000000   9.000000  ...            1.000000     0.000000\n",
            "1922       8320.000000  13.000000  ...            7.000000     1.000000\n",
            "1924       8600.000000  11.000000  ...            2.000000     1.000000\n",
            "1925       6100.000000   1.000000  ...            0.000000     0.000000\n",
            "1929       6700.000000   5.500000  ...            0.000000     0.000000\n",
            "1930       7017.400000   6.000000  ...            0.166667     0.333333\n",
            "1931       7940.000000  10.000000  ...            3.000000     0.000000\n",
            "1933       8570.000000  16.000000  ...            0.000000     0.000000\n",
            "1934       6900.000000   0.500000  ...            0.000000     0.000000\n",
            "1935       6910.200000   3.000000  ...            0.000000     0.000000\n",
            "1936       6935.142857   4.857143  ...            0.000000     0.000000\n",
            "1937       6698.333333   3.000000  ...            0.000000     0.000000\n",
            "1938       8350.000000   7.000000  ...            0.000000     1.000000\n",
            "1939       6827.800000   3.000000  ...            0.000000     0.000000\n",
            "1940               NaN   0.000000  ...            0.000000     0.000000\n",
            "\n",
            "[16 rows x 6 columns]\n"
          ],
          "name": "stdout"
        },
        {
          "output_type": "display_data",
          "data": {
            "image/png": "[encoded data removed]",
            "text/plain": [
              "<Figure size 432x288 with 1 Axes>"
            ]
          },
          "metadata": {
            "tags": []
          }
        }
      ]
    },
    {
      "cell_type": "code",
      "metadata": {
        "colab": {
          "base_uri": "https://localhost:8080/",
          "height": 235
        },
        "id": "CZAi3dH_rAGV",
        "outputId": "09b2b736-f23a-4ccb-a237-7a39c3c3b1e6"
      },
      "source": [
        "exceptions.head()"
      ],
      "execution_count": null,
      "outputs": [
        {
          "output_type": "execute_result",
          "data": {
            "text/html": [
              "<div>\n",
              "<style scoped>\n",
              "    .dataframe tbody tr th:only-of-type {\n",
              "        vertical-align: middle;\n",
              "    }\n",
              "\n",
              "    .dataframe tbody tr th {\n",
              "        vertical-align: top;\n",
              "    }\n",
              "\n",
              "    .dataframe thead th {\n",
              "        text-align: right;\n",
              "    }\n",
              "</style>\n",
              "<table border=\"1\" class=\"dataframe\">\n",
              "  <thead>\n",
              "    <tr style=\"text-align: right;\">\n",
              "      <th></th>\n",
              "      <th>highpoint_metres</th>\n",
              "      <th>members</th>\n",
              "      <th>member_deaths</th>\n",
              "      <th>hired_staff</th>\n",
              "      <th>hired_staff_deaths</th>\n",
              "      <th>oxygen_used</th>\n",
              "    </tr>\n",
              "    <tr>\n",
              "      <th>year</th>\n",
              "      <th></th>\n",
              "      <th></th>\n",
              "      <th></th>\n",
              "      <th></th>\n",
              "      <th></th>\n",
              "      <th></th>\n",
              "    </tr>\n",
              "  </thead>\n",
              "  <tbody>\n",
              "    <tr>\n",
              "      <th>1922</th>\n",
              "      <td>8320.0</td>\n",
              "      <td>13.0</td>\n",
              "      <td>0.0</td>\n",
              "      <td>30.0</td>\n",
              "      <td>7.0</td>\n",
              "      <td>1.0</td>\n",
              "    </tr>\n",
              "    <tr>\n",
              "      <th>1924</th>\n",
              "      <td>8600.0</td>\n",
              "      <td>11.0</td>\n",
              "      <td>2.0</td>\n",
              "      <td>40.0</td>\n",
              "      <td>2.0</td>\n",
              "      <td>1.0</td>\n",
              "    </tr>\n",
              "    <tr>\n",
              "      <th>1931</th>\n",
              "      <td>7940.0</td>\n",
              "      <td>10.0</td>\n",
              "      <td>1.0</td>\n",
              "      <td>30.0</td>\n",
              "      <td>3.0</td>\n",
              "      <td>0.0</td>\n",
              "    </tr>\n",
              "    <tr>\n",
              "      <th>1933</th>\n",
              "      <td>8570.0</td>\n",
              "      <td>16.0</td>\n",
              "      <td>0.0</td>\n",
              "      <td>50.0</td>\n",
              "      <td>0.0</td>\n",
              "      <td>0.0</td>\n",
              "    </tr>\n",
              "    <tr>\n",
              "      <th>1938</th>\n",
              "      <td>8350.0</td>\n",
              "      <td>7.0</td>\n",
              "      <td>0.0</td>\n",
              "      <td>16.0</td>\n",
              "      <td>0.0</td>\n",
              "      <td>1.0</td>\n",
              "    </tr>\n",
              "  </tbody>\n",
              "</table>\n",
              "</div>"
            ],
            "text/plain": [
              "      highpoint_metres  members  ...  hired_staff_deaths  oxygen_used\n",
              "year                             ...                                 \n",
              "1922            8320.0     13.0  ...                 7.0          1.0\n",
              "1924            8600.0     11.0  ...                 2.0          1.0\n",
              "1931            7940.0     10.0  ...                 3.0          0.0\n",
              "1933            8570.0     16.0  ...                 0.0          0.0\n",
              "1938            8350.0      7.0  ...                 0.0          1.0\n",
              "\n",
              "[5 rows x 6 columns]"
            ]
          },
          "metadata": {
            "tags": []
          },
          "execution_count": 71
        }
      ]
    },
    {
      "cell_type": "code",
      "metadata": {
        "colab": {
          "base_uri": "https://localhost:8080/",
          "height": 295
        },
        "id": "G89NZxJ8nhxi",
        "outputId": "a5899181-320b-41f0-896b-7c97bba99102"
      },
      "source": [
        "eYR = expeditions[expeditions.year<1940]\n",
        "exceptionsYearRange = eYR[eYR.year>1920]\n",
        "# [1920, 1921, 1922, 1924, 1925, 1929, 1930,1931, 1933, 1934, 1935, 1936, 1937, 1938, 1939, 1940]\n",
        "exceptions = exceptionsYearRange[exceptionsYearRange.highpoint_metres>7600]\n",
        "exceptions.head()\n",
        "plt.scatter(exceptions.year, exceptions.hired_staff, marker = \"o\", color='r', label= 'hired_staff')\n",
        "plt.axhline(y=avgstaff, color=\"r\", label='Avg Hired Staff')\n",
        "plt.scatter(exceptions.year, exceptions.hired_staff_deaths, marker = \"o\",color='b', label= 'hired_staff_deaths')\n",
        "plt.axhline(y=avgstaffd, color=\"b\", label='Avg Hired Staff Deaths')\n",
        "plt.xlabel('Year')\n",
        "plt.ylabel('Num')\n",
        "plt.title('Number of Hired Staffs and Staff Deaths')\n",
        "plt.legend(loc='upper right', bbox_to_anchor=(1.47, 1))\n",
        "plt.show()"
      ],
      "execution_count": null,
      "outputs": [
        {
          "output_type": "display_data",
          "data": {
            "image/png": "[encoded data removed]",
            "text/plain": [
              "<Figure size 432x288 with 1 Axes>"
            ]
          },
          "metadata": {
            "tags": []
          }
        }
      ]
    },
    {
      "cell_type": "code",
      "metadata": {
        "colab": {
          "base_uri": "https://localhost:8080/"
        },
        "id": "pp-8dHtPyI3X",
        "outputId": "c8f7e00c-93ca-4103-ab19-c69830ded310"
      },
      "source": [
        "\n",
        "print(expeditions[['highpoint_metres', 'hired_staff']])\n",
        "avgstaff = expeditions.hired_staff.mean()\n",
        "avgstaffd = expeditions.hired_staff_deaths.mean()\n",
        "print(avgstaff, avgstaffd)"
      ],
      "execution_count": null,
      "outputs": [
        {
          "output_type": "stream",
          "text": [
            "       highpoint_metres  hired_staff\n",
            "0                7937.0            9\n",
            "1                7937.0            0\n",
            "2                7937.0            8\n",
            "3                7000.0            0\n",
            "4                7160.0            0\n",
            "...                 ...          ...\n",
            "10359            7138.0            4\n",
            "10360            7138.0            1\n",
            "10361            6350.0            2\n",
            "10362            6600.0            0\n",
            "10363            6452.0            1\n",
            "\n",
            "[10364 rows x 2 columns]\n",
            "2.7769201080663835 0.030683133925125436\n"
          ],
          "name": "stdout"
        }
      ]
    },
    {
      "cell_type": "code",
      "metadata": {
        "colab": {
          "base_uri": "https://localhost:8080/",
          "height": 577
        },
        "id": "3NHsflIRtpod",
        "outputId": "1ac47c06-de89-4843-9b17-82bcc73ed0c3"
      },
      "source": [
        "reasonAndm = expeditions.groupby(\"members\").mean()\n",
        "plt.bar(reasonAndm.index, reasonAndm.highpoint_metres)\n",
        "plt.axhline(y=avgHPm, color=\"r\", label='Avg highpoint')\n",
        "plt.title(\"Average Highpoint Meters for Different Num of Members\")\n",
        "plt.legend(loc='upper right', bbox_to_anchor=(1.3, 1))\n",
        "plt.show()"
      ],
      "execution_count": 21,
      "outputs": [
        {
          "output_type": "error",
          "ename": "NameError",
          "evalue": "ignored",
          "traceback": [
            "\u001b[0;31m---------------------------------------------------------------------------\u001b[0m",
            "\u001b[0;31mNameError\u001b[0m                                 Traceback (most recent call last)",
            "\u001b[0;32m<ipython-input-21-c92bea74b7fd>\u001b[0m in \u001b[0;36m<module>\u001b[0;34m()\u001b[0m\n\u001b[1;32m      3\u001b[0m \u001b[0mplt\u001b[0m\u001b[0;34m.\u001b[0m\u001b[0maxhline\u001b[0m\u001b[0;34m(\u001b[0m\u001b[0my\u001b[0m\u001b[0;34m=\u001b[0m\u001b[0mavgHPm\u001b[0m\u001b[0;34m,\u001b[0m \u001b[0mcolor\u001b[0m\u001b[0;34m=\u001b[0m\u001b[0;34m\"r\"\u001b[0m\u001b[0;34m,\u001b[0m \u001b[0mlabel\u001b[0m\u001b[0;34m=\u001b[0m\u001b[0;34m'Avg highpoint'\u001b[0m\u001b[0;34m)\u001b[0m\u001b[0;34m\u001b[0m\u001b[0;34m\u001b[0m\u001b[0m\n\u001b[1;32m      4\u001b[0m \u001b[0mplt\u001b[0m\u001b[0;34m.\u001b[0m\u001b[0mtitle\u001b[0m\u001b[0;34m(\u001b[0m\u001b[0;34m\"Average Highpoint Meters for Different Num of Members\"\u001b[0m\u001b[0;34m)\u001b[0m\u001b[0;34m\u001b[0m\u001b[0;34m\u001b[0m\u001b[0m\n\u001b[0;32m----> 5\u001b[0;31m \u001b[0mlr\u001b[0m \u001b[0;34m=\u001b[0m \u001b[0mRidge\u001b[0m\u001b[0;34m(\u001b[0m\u001b[0;34m)\u001b[0m\u001b[0;34m\u001b[0m\u001b[0;34m\u001b[0m\u001b[0m\n\u001b[0m\u001b[1;32m      6\u001b[0m \u001b[0mplt\u001b[0m\u001b[0;34m.\u001b[0m\u001b[0mplot\u001b[0m\u001b[0;34m(\u001b[0m\u001b[0mreasonAndm\u001b[0m\u001b[0;34m.\u001b[0m\u001b[0mindex\u001b[0m\u001b[0;34m,\u001b[0m \u001b[0mlr\u001b[0m\u001b[0;34m.\u001b[0m\u001b[0mcoef_\u001b[0m\u001b[0;34m*\u001b[0m\u001b[0mreasonAndm\u001b[0m\u001b[0;34m.\u001b[0m\u001b[0mindex\u001b[0m\u001b[0;34m+\u001b[0m\u001b[0mlr\u001b[0m\u001b[0;34m.\u001b[0m\u001b[0mintercept_\u001b[0m\u001b[0;34m,\u001b[0m \u001b[0mcolor\u001b[0m\u001b[0;34m=\u001b[0m\u001b[0;34m'orange'\u001b[0m\u001b[0;34m)\u001b[0m\u001b[0;34m\u001b[0m\u001b[0;34m\u001b[0m\u001b[0m\n\u001b[1;32m      7\u001b[0m \u001b[0mplt\u001b[0m\u001b[0;34m.\u001b[0m\u001b[0mlegend\u001b[0m\u001b[0;34m(\u001b[0m\u001b[0mloc\u001b[0m\u001b[0;34m=\u001b[0m\u001b[0;34m'upper right'\u001b[0m\u001b[0;34m,\u001b[0m \u001b[0mbbox_to_anchor\u001b[0m\u001b[0;34m=\u001b[0m\u001b[0;34m(\u001b[0m\u001b[0;36m1.3\u001b[0m\u001b[0;34m,\u001b[0m \u001b[0;36m1\u001b[0m\u001b[0;34m)\u001b[0m\u001b[0;34m)\u001b[0m\u001b[0;34m\u001b[0m\u001b[0;34m\u001b[0m\u001b[0m\n",
            "\u001b[0;31mNameError\u001b[0m: name 'Ridge' is not defined"
          ]
        },
        {
          "output_type": "display_data",
          "data": {
            "image/png": "[encoded data removed]",
            "text/plain": [
              "<Figure size 576x396 with 1 Axes>"
            ]
          },
          "metadata": {
            "tags": []
          }
        }
      ]
    },
    {
      "cell_type": "code",
      "metadata": {
        "colab": {
          "base_uri": "https://localhost:8080/",
          "height": 397
        },
        "id": "PEN5U4oFu_WG",
        "outputId": "c6098632-7c83-477d-817b-2157e496837a"
      },
      "source": [
        "reasonAndo = expeditions.groupby(\"oxygen_used\").mean()\n",
        "print(reasonAndo)\n",
        "plt.bar(reasonAndo.index, reasonAndo.highpoint_metres)\n",
        "plt.axhline(y=avgHPm, color=\"r\", label='Avg highpoint')\n",
        "plt.title(\"Average Highpoint Meters and Oxygen Usage\")\n",
        "plt.xlabel([\"False\", \"True\"])\n",
        "plt.legend(loc='upper right', bbox_to_anchor=(1.3, 1))\n",
        "plt.show()"
      ],
      "execution_count": null,
      "outputs": [
        {
          "output_type": "stream",
          "text": [
            "                    year  highpoint_metres  ...  hired_staff  hired_staff_deaths\n",
            "oxygen_used                                 ...                                 \n",
            "False        1999.632984       6987.979398  ...     1.620102            0.026973\n",
            "True         2005.054602       8426.302541  ...     5.737294            0.040179\n",
            "\n",
            "[2 rows x 6 columns]\n"
          ],
          "name": "stdout"
        },
        {
          "output_type": "display_data",
          "data": {
            "image/png": "[encoded data removed]",
            "text/plain": [
              "<Figure size 432x288 with 1 Axes>"
            ]
          },
          "metadata": {
            "tags": []
          }
        }
      ]
    },
    {
      "cell_type": "code",
      "metadata": {
        "colab": {
          "base_uri": "https://localhost:8080/",
          "height": 396
        },
        "id": "jtpV8-SYQQWN",
        "outputId": "e1fcc4a4-b2e7-4702-d151-d1f242a119d0"
      },
      "source": [
        "reasonAndoc = expeditions[\"oxygen_used\"].value_counts()\n",
        "plt.style.use('seaborn')\n",
        "print(reasonAndoc)\n",
        "plt.pie(reasonAndoc[:] ,reasonAndoc.index, autopct='%.1f%%', startangle=45)\n",
        "plt.title('Oxygen Usage')\n",
        "plt.axis('equal')\n",
        "plt.legend(reasonAndoc.index, loc='lower left') # legend\n",
        "plt.show()"
      ],
      "execution_count": 18,
      "outputs": [
        {
          "output_type": "stream",
          "text": [
            "False    7452\n",
            "True     2912\n",
            "Name: oxygen_used, dtype: int64\n"
          ],
          "name": "stdout"
        },
        {
          "output_type": "display_data",
          "data": {
            "image/png": "[encoded data removed]",
            "text/plain": [
              "<Figure size 576x396 with 1 Axes>"
            ]
          },
          "metadata": {
            "tags": []
          }
        }
      ]
    },
    {
      "cell_type": "code",
      "metadata": {
        "colab": {
          "base_uri": "https://localhost:8080/",
          "height": 669
        },
        "id": "NLo7n6MDnpft",
        "outputId": "d57e3ef2-f4c6-45de-c833-6facf88ec67f"
      },
      "source": [
        "\n",
        "#plt.style.use('seaborn')\n",
        "plt.hist(expeditions.termination_reason, density=True)\n",
        "plt.title(\"Different Termination Reasons\")\n",
        "plt.xticks(rotation=90)\n",
        "plt.show()"
      ],
      "execution_count": null,
      "outputs": [
        {
          "output_type": "display_data",
          "data": {
            "image/png": "[encoded data removed]",
            "text/plain": [
              "<Figure size 576x396 with 1 Axes>"
            ]
          },
          "metadata": {
            "tags": []
          }
        }
      ]
    },
    {
      "cell_type": "code",
      "metadata": {
        "colab": {
          "base_uri": "https://localhost:8080/",
          "height": 362
        },
        "id": "gKcEZkby5Xq1",
        "outputId": "92820ee0-57d7-4b96-aa16-c61cc15e31cb"
      },
      "source": [
        "members.head()\n",
        "plt.hist(members.age, density=True, edgecolor=\"w\")\n",
        "plt.title(\"Age Distribution for All Members\")\n",
        "plt.show()"
      ],
      "execution_count": null,
      "outputs": [
        {
          "output_type": "display_data",
          "data": {
            "image/png": "[encoded data removed]",
            "text/plain": [
              "<Figure size 576x396 with 1 Axes>"
            ]
          },
          "metadata": {
            "tags": []
          }
        }
      ]
    },
    {
      "cell_type": "code",
      "metadata": {
        "colab": {
          "base_uri": "https://localhost:8080/",
          "height": 309
        },
        "id": "iTDuNWtW63t3",
        "outputId": "4415823b-6b17-4de6-f8b8-3b1717b174c1"
      },
      "source": [
        "members.head()"
      ],
      "execution_count": null,
      "outputs": [
        {
          "output_type": "execute_result",
          "data": {
            "text/html": [
              "<div>\n",
              "<style scoped>\n",
              "    .dataframe tbody tr th:only-of-type {\n",
              "        vertical-align: middle;\n",
              "    }\n",
              "\n",
              "    .dataframe tbody tr th {\n",
              "        vertical-align: top;\n",
              "    }\n",
              "\n",
              "    .dataframe thead th {\n",
              "        text-align: right;\n",
              "    }\n",
              "</style>\n",
              "<table border=\"1\" class=\"dataframe\">\n",
              "  <thead>\n",
              "    <tr style=\"text-align: right;\">\n",
              "      <th></th>\n",
              "      <th>expedition_id</th>\n",
              "      <th>member_id</th>\n",
              "      <th>peak_id</th>\n",
              "      <th>peak_name</th>\n",
              "      <th>year</th>\n",
              "      <th>season</th>\n",
              "      <th>sex</th>\n",
              "      <th>age</th>\n",
              "      <th>citizenship</th>\n",
              "      <th>expedition_role</th>\n",
              "      <th>hired</th>\n",
              "      <th>highpoint_metres</th>\n",
              "      <th>success</th>\n",
              "      <th>solo</th>\n",
              "      <th>oxygen_used</th>\n",
              "      <th>died</th>\n",
              "      <th>death_cause</th>\n",
              "      <th>death_height_metres</th>\n",
              "      <th>injured</th>\n",
              "      <th>injury_type</th>\n",
              "      <th>injury_height_metres</th>\n",
              "    </tr>\n",
              "  </thead>\n",
              "  <tbody>\n",
              "    <tr>\n",
              "      <th>0</th>\n",
              "      <td>AMAD78301</td>\n",
              "      <td>AMAD78301-01</td>\n",
              "      <td>AMAD</td>\n",
              "      <td>Ama Dablam</td>\n",
              "      <td>1978</td>\n",
              "      <td>Autumn</td>\n",
              "      <td>M</td>\n",
              "      <td>40.0</td>\n",
              "      <td>France</td>\n",
              "      <td>Leader</td>\n",
              "      <td>False</td>\n",
              "      <td>NaN</td>\n",
              "      <td>False</td>\n",
              "      <td>False</td>\n",
              "      <td>False</td>\n",
              "      <td>False</td>\n",
              "      <td>NaN</td>\n",
              "      <td>NaN</td>\n",
              "      <td>False</td>\n",
              "      <td>NaN</td>\n",
              "      <td>NaN</td>\n",
              "    </tr>\n",
              "    <tr>\n",
              "      <th>1</th>\n",
              "      <td>AMAD78301</td>\n",
              "      <td>AMAD78301-02</td>\n",
              "      <td>AMAD</td>\n",
              "      <td>Ama Dablam</td>\n",
              "      <td>1978</td>\n",
              "      <td>Autumn</td>\n",
              "      <td>M</td>\n",
              "      <td>41.0</td>\n",
              "      <td>France</td>\n",
              "      <td>Deputy Leader</td>\n",
              "      <td>False</td>\n",
              "      <td>6000.0</td>\n",
              "      <td>False</td>\n",
              "      <td>False</td>\n",
              "      <td>False</td>\n",
              "      <td>False</td>\n",
              "      <td>NaN</td>\n",
              "      <td>NaN</td>\n",
              "      <td>False</td>\n",
              "      <td>NaN</td>\n",
              "      <td>NaN</td>\n",
              "    </tr>\n",
              "    <tr>\n",
              "      <th>2</th>\n",
              "      <td>AMAD78301</td>\n",
              "      <td>AMAD78301-03</td>\n",
              "      <td>AMAD</td>\n",
              "      <td>Ama Dablam</td>\n",
              "      <td>1978</td>\n",
              "      <td>Autumn</td>\n",
              "      <td>M</td>\n",
              "      <td>27.0</td>\n",
              "      <td>France</td>\n",
              "      <td>Climber</td>\n",
              "      <td>False</td>\n",
              "      <td>NaN</td>\n",
              "      <td>False</td>\n",
              "      <td>False</td>\n",
              "      <td>False</td>\n",
              "      <td>False</td>\n",
              "      <td>NaN</td>\n",
              "      <td>NaN</td>\n",
              "      <td>False</td>\n",
              "      <td>NaN</td>\n",
              "      <td>NaN</td>\n",
              "    </tr>\n",
              "    <tr>\n",
              "      <th>3</th>\n",
              "      <td>AMAD78301</td>\n",
              "      <td>AMAD78301-04</td>\n",
              "      <td>AMAD</td>\n",
              "      <td>Ama Dablam</td>\n",
              "      <td>1978</td>\n",
              "      <td>Autumn</td>\n",
              "      <td>M</td>\n",
              "      <td>40.0</td>\n",
              "      <td>France</td>\n",
              "      <td>Exp Doctor</td>\n",
              "      <td>False</td>\n",
              "      <td>6000.0</td>\n",
              "      <td>False</td>\n",
              "      <td>False</td>\n",
              "      <td>False</td>\n",
              "      <td>False</td>\n",
              "      <td>NaN</td>\n",
              "      <td>NaN</td>\n",
              "      <td>False</td>\n",
              "      <td>NaN</td>\n",
              "      <td>NaN</td>\n",
              "    </tr>\n",
              "    <tr>\n",
              "      <th>4</th>\n",
              "      <td>AMAD78301</td>\n",
              "      <td>AMAD78301-05</td>\n",
              "      <td>AMAD</td>\n",
              "      <td>Ama Dablam</td>\n",
              "      <td>1978</td>\n",
              "      <td>Autumn</td>\n",
              "      <td>M</td>\n",
              "      <td>34.0</td>\n",
              "      <td>France</td>\n",
              "      <td>Climber</td>\n",
              "      <td>False</td>\n",
              "      <td>NaN</td>\n",
              "      <td>False</td>\n",
              "      <td>False</td>\n",
              "      <td>False</td>\n",
              "      <td>False</td>\n",
              "      <td>NaN</td>\n",
              "      <td>NaN</td>\n",
              "      <td>False</td>\n",
              "      <td>NaN</td>\n",
              "      <td>NaN</td>\n",
              "    </tr>\n",
              "  </tbody>\n",
              "</table>\n",
              "</div>"
            ],
            "text/plain": [
              "  expedition_id     member_id  ... injury_type injury_height_metres\n",
              "0     AMAD78301  AMAD78301-01  ...         NaN                  NaN\n",
              "1     AMAD78301  AMAD78301-02  ...         NaN                  NaN\n",
              "2     AMAD78301  AMAD78301-03  ...         NaN                  NaN\n",
              "3     AMAD78301  AMAD78301-04  ...         NaN                  NaN\n",
              "4     AMAD78301  AMAD78301-05  ...         NaN                  NaN\n",
              "\n",
              "[5 rows x 21 columns]"
            ]
          },
          "metadata": {
            "tags": []
          },
          "execution_count": 192
        }
      ]
    },
    {
      "cell_type": "code",
      "metadata": {
        "colab": {
          "base_uri": "https://localhost:8080/",
          "height": 295
        },
        "id": "CRb-dqUgiN5B",
        "outputId": "545d1502-3e10-4f88-9868-1797d9354c1f"
      },
      "source": [
        "malem = members.loc[members['sex']=='M']\n",
        "malemyr = malem.groupby('year').count()\n",
        "malemyrs = malemyr.sex\n",
        "\n",
        "femalem = members.loc[members['sex']=='F']\n",
        "femalemyr = femalem.groupby('year').count()\n",
        "femalemyrs = femalemyr.sex\n",
        "\n",
        "plt.plot(malemyr.index, malemyr.sex, marker ='.', linestyle='--', color = 'r', label='M')\n",
        "plt.plot(femalemyr.index, femalemyr.sex, marker ='*', linestyle='-.', color = 'b', label='F')\n",
        "\n",
        "plt.xlabel('Year')\n",
        "plt.ylabel('Num of Members')\n",
        "plt.title('M and F Members over Years')\n",
        "\n",
        "# legend and grid\n",
        "plt.legend()\n",
        "plt.show()"
      ],
      "execution_count": 10,
      "outputs": [
        {
          "output_type": "display_data",
          "data": {
            "image/png": "[encoded data removed]",
            "text/plain": [
              "<Figure size 432x288 with 1 Axes>"
            ]
          },
          "metadata": {
            "tags": [],
            "needs_background": "light"
          }
        }
      ]
    },
    {
      "cell_type": "code",
      "metadata": {
        "colab": {
          "base_uri": "https://localhost:8080/",
          "height": 298
        },
        "id": "AmcqbhC167Ym",
        "outputId": "0bfbc58d-0ad2-4fca-a4ff-2be54aceffbd"
      },
      "source": [
        "counts = [members['sex'].value_counts()[0], members['sex'].value_counts()[1]]\n",
        "plt.bar(members['sex'].value_counts().index, height = counts )\n",
        "plt.text(x = 1, y = 7045, s = counts[1], size=11)\n",
        "plt.text(0, 69474, counts[0],size=11)\n",
        "plt.title('Num of Members for Male and Female')"
      ],
      "execution_count": null,
      "outputs": [
        {
          "output_type": "execute_result",
          "data": {
            "text/plain": [
              "Text(0.5, 1.0, 'Num of Members for Male and Female')"
            ]
          },
          "metadata": {
            "tags": []
          },
          "execution_count": 3
        },
        {
          "output_type": "display_data",
          "data": {
            "image/png": "[encoded data removed]",
            "text/plain": [
              "<Figure size 432x288 with 1 Axes>"
            ]
          },
          "metadata": {
            "tags": []
          }
        }
      ]
    },
    {
      "cell_type": "code",
      "metadata": {
        "id": "NIx330vuB6wz"
      },
      "source": [
        "# Top 20 Peaks with The Most Successes\n",
        "successexp =expeditions.loc[expeditions['termination_reason']=='Success (main peak)']\n",
        "successexp.head()\n",
        "countpeak= successexp['peak_id'].value_counts()\n",
        "plt.figure(figsize = (15,7.5))\n",
        "plt.bar(countpeak.index[:20], countpeak[:20])\n",
        "plt.title('Top 20 Peaks with The Most Successes')\n",
        "print(peaks.loc[peaks['peak_id']== 'EVER'])"
      ],
      "execution_count": null,
      "outputs": []
    },
    {
      "cell_type": "code",
      "metadata": {
        "id": "Yf6cpexBg1FA"
      },
      "source": [
        "# Top 10 Trekking Agency with The Most Successes\n",
        "taExp = successexp['trekking_agency'].value_counts()\n",
        "plt.figure(figsize = (15,7.5))\n",
        "plt.bar(taExp.index[:10], taExp[:10])\n",
        "plt.xticks(rotation=45)\n",
        "plt.title('Top 10 Trekking Agency with The Most Successes')"
      ],
      "execution_count": null,
      "outputs": []
    },
    {
      "cell_type": "code",
      "metadata": {
        "id": "P6ZWr2J7g1g-"
      },
      "source": [
        "# Members and success\n",
        "mExp = successexp['members'].value_counts()\n",
        "plt.figure(figsize = (15,7.5))\n",
        "print(mExp)\n",
        "#mExp.sort_values(axis = taExp[:], ascending=False, inplace=True)\n",
        "plt.bar(mExp.index[:10], taExp[:10])\n",
        "plt.xticks(rotation=45)\n",
        "plt.title('Members')"
      ],
      "execution_count": null,
      "outputs": []
    },
    {
      "cell_type": "markdown",
      "metadata": {
        "id": "IUjuPZ9_CUkW"
      },
      "source": [
        "## **Final Deliverable**"
      ]
    },
    {
      "cell_type": "code",
      "metadata": {
        "id": "pgjrCVszhuF_"
      },
      "source": [
        ""
      ],
      "execution_count": null,
      "outputs": []
    },
    {
      "cell_type": "markdown",
      "metadata": {
        "id": "AroFpzSaCXDa"
      },
      "source": [
        "Your final submission should take the form of a blog post that consists of 10 or more captioned visualizations detailing your most important insights. You will also work on posting the blog to medium or your github website. Your “insights” can include important surprises or issues (such as data quality problems affecting your analysis) as well as responses to your analysis questions.\n",
        "\n",
        "Each visualization image should be a screenshot accompanied with a title and descriptive caption (1-4 sentences long) describing the insight(s) learned from that view. Provide sufficient detail for each caption such that anyone could read through your report and understand what you’ve learned. You are free, but not required, to annotate your images to draw attention to specific features of the data. \n",
        "\n",
        "Do not submit a blog cluttered with everything little thing you tried. Submit a clean report that highlights the most important “milestones” in your exploration, which can include initial overviews, identification of data quality problems, confirmations of key assumptions, and potential “discoveries”. Your blog should only present the final dataset you analyzed and should not describe any iterations on earlier datasets you might have initially explored."
      ]
    },
    {
      "cell_type": "markdown",
      "metadata": {
        "id": "XlvqVKO3CZxv"
      },
      "source": [
        "## **Data Sources**"
      ]
    },
    {
      "cell_type": "markdown",
      "metadata": {
        "id": "3tHXuSJ3CaiO"
      },
      "source": [
        "There are a variety of data sources available online. Here are some possible sources to consider. If you have any questions about whether your dataset is appropriate, please talk to the TAs.\n",
        "\n",
        "**Data is Plural** - Variety of datasets and sources covering many topics.\n",
        "\n",
        "https://data.gov - U.S. Government open datasets.\n",
        "\n",
        "U.S. Census Bureau - Census data - https://data.census.gov/\n",
        "\n",
        "Federal Elections Commission - Campaign finance and expenditures. - https://www.fec.gov/data/\n",
        "\n",
        "Federal Aviation Administration - FAA data - https://www.faa.gov/data_research/\n",
        "\n",
        "https://www.kaggle.com/\n",
        "\n",
        "https://archive.ics.uci.edu/ml/index.php\n",
        "\n",
        "https://github.com/awesomedata/awesome-public-datasets - Awesome Public Datasets - Variety of public datasets.\n",
        "\n",
        "Stanford Cable TV News Analyzer - We have recently released a tool that can be used to analyze who and what appears in the last decade of Cable TV News (i.e. CNN, Fox News, MSNBC). The site lets you download data as well which you could use to conduct further analysis. - https://tvnews.stanford.edu/data"
      ]
    },
    {
      "cell_type": "markdown",
      "metadata": {
        "id": "r1dkn1c9CtjY"
      },
      "source": [
        "### **Visualization Tool (matplotlib, seaborn, etc)**"
      ]
    },
    {
      "cell_type": "markdown",
      "metadata": {
        "id": "HDf8VHW7Cv2l"
      },
      "source": [
        "One goal of this assignment is for you to learn to use and evaluate the effectiveness of these packages. In addition to these packages, you are free to also use other visualization tools as you see fit, for example, you could also take a look at Tableau."
      ]
    },
    {
      "cell_type": "markdown",
      "metadata": {
        "id": "VlUMHuXCCzRa"
      },
      "source": [
        "### **Data Wrangling Tools**"
      ]
    },
    {
      "cell_type": "markdown",
      "metadata": {
        "id": "uPjA2VABC1fA"
      },
      "source": [
        "The data you choose may require reformatting, transformation or cleaning prior to visualization. You can use Pandas for data preparation. "
      ]
    },
    {
      "cell_type": "markdown",
      "metadata": {
        "id": "RG61l1mTC3ju"
      },
      "source": [
        "### **Grading**"
      ]
    },
    {
      "cell_type": "markdown",
      "metadata": {
        "id": "ESbDdwRzC5aM"
      },
      "source": [
        "Each submission will be graded based on both the analysis process and the included visualizations. Here are our grading criteria:\n",
        "\n",
        "**Appropriate Data Assessment (5):** Overview/understanding of the data is built from transformations and appropriate assessment of data quality. Poses clear questions.\n",
        "\n",
        "**Exploration Thoroughness (5):** Sufficient breadth of analysis, exploring questions in sufficient depth (with appropriate follow-up questions).\n",
        "\n",
        "**Documentation (Blog) (5):** Clear documentation of exploratory process, including clearly written, understandable captions that communicate primary insights.\n",
        "\n",
        "**Appropriate use of Numpy, Pandas, and Matplotlib (5)**  to ingest, clean, and present the data"
      ]
    },
    {
      "cell_type": "markdown",
      "metadata": {
        "id": "TJrX_ynfC7Pp"
      },
      "source": [
        "### **Submission Details**"
      ]
    },
    {
      "cell_type": "markdown",
      "metadata": {
        "id": "gM4CysyYC9dA"
      },
      "source": [
        "This is an individual assignment. You may not work in groups. The assignment is due on Friday (03/05/2021)\n",
        "\n",
        "To submit your assignment, download your notebook and zip all the necessary files(data files). Submit the zipped file to balckboard. Make sure the notebook and the zipped file is named in the format - EDA_LastName_FirstName. Be sure to include the link to access your blog in your notebook.\n",
        "\n",
        "Also include the link to your notebook in the submission. \n",
        "\n",
        "We will provide more details on the blog during the next week of class.\n",
        "\n",
        "**Note** - If the dataset is too large to be zipped and submitted on blackboard, only submit your notebook, add your dataset to your google drive and share a link to the file in your notebook."
      ]
    },
    {
      "cell_type": "markdown",
      "metadata": {
        "id": "STnqMZ_BgF2_"
      },
      "source": [
        "Link: https://github.com/CynthiaH524/Himalaya"
      ]
    }
  ]
}